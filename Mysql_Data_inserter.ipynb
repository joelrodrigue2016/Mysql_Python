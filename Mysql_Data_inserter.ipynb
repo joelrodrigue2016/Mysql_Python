{
 "cells": [
  {
   "cell_type": "markdown",
   "id": "67c4a9bc",
   "metadata": {},
   "source": [
    "# MySQL connection with python (Data inserter)\n",
    "PostgreSQL, also known as Postgres, is a free and open-source relational database management system emphasizing extensibility and SQL compliance. It was originally named POSTGRES, referring to its origins as a successor to the Ingres database developed at the University of California, Berkeley."
   ]
  },
  {
   "cell_type": "code",
   "execution_count": 27,
   "id": "c87849a8",
   "metadata": {},
   "outputs": [
    {
     "name": "stdout",
     "output_type": "stream",
     "text": [
      "Opened database successfully\n"
     ]
    }
   ],
   "source": [
    "#!/usr/bin/python\n",
    "\n",
    "try:\n",
    "    import mysql.connector as mysql\n",
    "    import pandas as pd\n",
    "    import pandas.io.sql as psql\n",
    "    import numpy as np\n",
    "    from matplotlib import pyplot as plt\n",
    "    from IPython.display import display\n",
    "    import os\n",
    "    #import pandas_profiling as pp\n",
    "    \n",
    "    \n",
    "    \n",
    "    host=\"127.0.0.1\"\n",
    "    database=\"lms2\"\n",
    "    user=\"root\"\n",
    "    password=\"\"\n",
    "    conn= mysql.connect(\n",
    "        host=host,\n",
    "        user=user,\n",
    "        password=password,\n",
    "        database=database)\n",
    "\n",
    "\n",
    "    print (\"Opened database successfully\")\n",
    "\n",
    "except Exception as e:\n",
    "    print(e)"
   ]
  },
  {
   "cell_type": "markdown",
   "id": "cb362547",
   "metadata": {},
   "source": [
    "## Here we can make sure that the all rows and columns are displayed."
   ]
  },
  {
   "cell_type": "code",
   "execution_count": 28,
   "id": "bb5a3cc8",
   "metadata": {},
   "outputs": [],
   "source": [
    "pd.options.display.max_rows = None\n",
    "pd.options.display.max_columns = None"
   ]
  },
  {
   "cell_type": "markdown",
   "id": "a70c7d2d",
   "metadata": {},
   "source": [
    "## Only use this in order to create tables"
   ]
  },
  {
   "cell_type": "code",
   "execution_count": 36,
   "id": "3f8d2a41",
   "metadata": {},
   "outputs": [
    {
     "ename": "ProgrammingError",
     "evalue": "1050 (42S01): Table 'sample_geom' already exists",
     "output_type": "error",
     "traceback": [
      "\u001b[1;31m---------------------------------------------------------------------------\u001b[0m",
      "\u001b[1;31mProgrammingError\u001b[0m                          Traceback (most recent call last)",
      "\u001b[1;32m~\\AppData\\Local\\Temp/ipykernel_7116/1488152731.py\u001b[0m in \u001b[0;36m<module>\u001b[1;34m\u001b[0m\n\u001b[0;32m      1\u001b[0m \u001b[0mcur\u001b[0m \u001b[1;33m=\u001b[0m \u001b[0mconn\u001b[0m\u001b[1;33m.\u001b[0m\u001b[0mcursor\u001b[0m\u001b[1;33m(\u001b[0m\u001b[1;33m)\u001b[0m\u001b[1;33m\u001b[0m\u001b[1;33m\u001b[0m\u001b[0m\n\u001b[1;32m----> 2\u001b[1;33m cur.execute(\"\"\"\n\u001b[0m\u001b[0;32m      3\u001b[0m \u001b[1;33m\u001b[0m\u001b[0m\n\u001b[0;32m      4\u001b[0m     CREATE TABLE Sample_Geom(\n\u001b[0;32m      5\u001b[0m     \u001b[0mzip\u001b[0m \u001b[0mINTEGER\u001b[0m\u001b[1;33m(\u001b[0m\u001b[1;36m3\u001b[0m\u001b[1;33m)\u001b[0m \u001b[0mNOT\u001b[0m \u001b[0mNULL\u001b[0m \u001b[0mPRIMARY\u001b[0m \u001b[0mKEY\u001b[0m\u001b[1;33m,\u001b[0m\u001b[1;33m\u001b[0m\u001b[1;33m\u001b[0m\u001b[0m\n",
      "\u001b[1;32m~\\anaconda3\\lib\\site-packages\\mysql\\connector\\cursor.py\u001b[0m in \u001b[0;36mexecute\u001b[1;34m(self, operation, params, multi)\u001b[0m\n\u001b[0;32m    549\u001b[0m         \u001b[1;32melse\u001b[0m\u001b[1;33m:\u001b[0m\u001b[1;33m\u001b[0m\u001b[1;33m\u001b[0m\u001b[0m\n\u001b[0;32m    550\u001b[0m             \u001b[1;32mtry\u001b[0m\u001b[1;33m:\u001b[0m\u001b[1;33m\u001b[0m\u001b[1;33m\u001b[0m\u001b[0m\n\u001b[1;32m--> 551\u001b[1;33m                 \u001b[0mself\u001b[0m\u001b[1;33m.\u001b[0m\u001b[0m_handle_result\u001b[0m\u001b[1;33m(\u001b[0m\u001b[0mself\u001b[0m\u001b[1;33m.\u001b[0m\u001b[0m_connection\u001b[0m\u001b[1;33m.\u001b[0m\u001b[0mcmd_query\u001b[0m\u001b[1;33m(\u001b[0m\u001b[0mstmt\u001b[0m\u001b[1;33m)\u001b[0m\u001b[1;33m)\u001b[0m\u001b[1;33m\u001b[0m\u001b[1;33m\u001b[0m\u001b[0m\n\u001b[0m\u001b[0;32m    552\u001b[0m             \u001b[1;32mexcept\u001b[0m \u001b[0merrors\u001b[0m\u001b[1;33m.\u001b[0m\u001b[0mInterfaceError\u001b[0m\u001b[1;33m:\u001b[0m\u001b[1;33m\u001b[0m\u001b[1;33m\u001b[0m\u001b[0m\n\u001b[0;32m    553\u001b[0m                 \u001b[1;32mif\u001b[0m \u001b[0mself\u001b[0m\u001b[1;33m.\u001b[0m\u001b[0m_connection\u001b[0m\u001b[1;33m.\u001b[0m\u001b[0m_have_next_result\u001b[0m\u001b[1;33m:\u001b[0m  \u001b[1;31m# pylint: disable=W0212\u001b[0m\u001b[1;33m\u001b[0m\u001b[1;33m\u001b[0m\u001b[0m\n",
      "\u001b[1;32m~\\anaconda3\\lib\\site-packages\\mysql\\connector\\connection.py\u001b[0m in \u001b[0;36mcmd_query\u001b[1;34m(self, query, raw, buffered, raw_as_string)\u001b[0m\n\u001b[0;32m    488\u001b[0m         \u001b[1;32mif\u001b[0m \u001b[1;32mnot\u001b[0m \u001b[0misinstance\u001b[0m\u001b[1;33m(\u001b[0m\u001b[0mquery\u001b[0m\u001b[1;33m,\u001b[0m \u001b[0mbytes\u001b[0m\u001b[1;33m)\u001b[0m\u001b[1;33m:\u001b[0m\u001b[1;33m\u001b[0m\u001b[1;33m\u001b[0m\u001b[0m\n\u001b[0;32m    489\u001b[0m             \u001b[0mquery\u001b[0m \u001b[1;33m=\u001b[0m \u001b[0mquery\u001b[0m\u001b[1;33m.\u001b[0m\u001b[0mencode\u001b[0m\u001b[1;33m(\u001b[0m\u001b[1;34m'utf-8'\u001b[0m\u001b[1;33m)\u001b[0m\u001b[1;33m\u001b[0m\u001b[1;33m\u001b[0m\u001b[0m\n\u001b[1;32m--> 490\u001b[1;33m         \u001b[0mresult\u001b[0m \u001b[1;33m=\u001b[0m \u001b[0mself\u001b[0m\u001b[1;33m.\u001b[0m\u001b[0m_handle_result\u001b[0m\u001b[1;33m(\u001b[0m\u001b[0mself\u001b[0m\u001b[1;33m.\u001b[0m\u001b[0m_send_cmd\u001b[0m\u001b[1;33m(\u001b[0m\u001b[0mServerCmd\u001b[0m\u001b[1;33m.\u001b[0m\u001b[0mQUERY\u001b[0m\u001b[1;33m,\u001b[0m \u001b[0mquery\u001b[0m\u001b[1;33m)\u001b[0m\u001b[1;33m)\u001b[0m\u001b[1;33m\u001b[0m\u001b[1;33m\u001b[0m\u001b[0m\n\u001b[0m\u001b[0;32m    491\u001b[0m \u001b[1;33m\u001b[0m\u001b[0m\n\u001b[0;32m    492\u001b[0m         \u001b[1;32mif\u001b[0m \u001b[0mself\u001b[0m\u001b[1;33m.\u001b[0m\u001b[0m_have_next_result\u001b[0m\u001b[1;33m:\u001b[0m\u001b[1;33m\u001b[0m\u001b[1;33m\u001b[0m\u001b[0m\n",
      "\u001b[1;32m~\\anaconda3\\lib\\site-packages\\mysql\\connector\\connection.py\u001b[0m in \u001b[0;36m_handle_result\u001b[1;34m(self, packet)\u001b[0m\n\u001b[0;32m    393\u001b[0m             \u001b[1;32mreturn\u001b[0m \u001b[0mself\u001b[0m\u001b[1;33m.\u001b[0m\u001b[0m_handle_eof\u001b[0m\u001b[1;33m(\u001b[0m\u001b[0mpacket\u001b[0m\u001b[1;33m)\u001b[0m\u001b[1;33m\u001b[0m\u001b[1;33m\u001b[0m\u001b[0m\n\u001b[0;32m    394\u001b[0m         \u001b[1;32melif\u001b[0m \u001b[0mpacket\u001b[0m\u001b[1;33m[\u001b[0m\u001b[1;36m4\u001b[0m\u001b[1;33m]\u001b[0m \u001b[1;33m==\u001b[0m \u001b[1;36m255\u001b[0m\u001b[1;33m:\u001b[0m\u001b[1;33m\u001b[0m\u001b[1;33m\u001b[0m\u001b[0m\n\u001b[1;32m--> 395\u001b[1;33m             \u001b[1;32mraise\u001b[0m \u001b[0merrors\u001b[0m\u001b[1;33m.\u001b[0m\u001b[0mget_exception\u001b[0m\u001b[1;33m(\u001b[0m\u001b[0mpacket\u001b[0m\u001b[1;33m)\u001b[0m\u001b[1;33m\u001b[0m\u001b[1;33m\u001b[0m\u001b[0m\n\u001b[0m\u001b[0;32m    396\u001b[0m \u001b[1;33m\u001b[0m\u001b[0m\n\u001b[0;32m    397\u001b[0m         \u001b[1;31m# We have a text result set\u001b[0m\u001b[1;33m\u001b[0m\u001b[1;33m\u001b[0m\u001b[0m\n",
      "\u001b[1;31mProgrammingError\u001b[0m: 1050 (42S01): Table 'sample_geom' already exists"
     ]
    }
   ],
   "source": [
    "cur = conn.cursor()\n",
    "cur.execute(\"\"\"\n",
    "    \n",
    "    CREATE TABLE Sample_Geom(\n",
    "    zip INTEGER(3) NOT NULL PRIMARY KEY, \n",
    "    latitude NUMERIC(9,6), \n",
    "    longitude NUMERIC(10,6),\n",
    "    city VARCHAR(10),\n",
    "    state VARCHAR(2),\n",
    "    county VARCHAR(9)\n",
    "    );\n",
    "    \n",
    "\n",
    "\"\"\")\n",
    "\n",
    "conn.commit() \n",
    "print (\"Table created successfully!!!\")\n",
    "\n"
   ]
  },
  {
   "cell_type": "markdown",
   "id": "3dda5c0e",
   "metadata": {},
   "source": [
    "## Only use this in order to create spatial tables"
   ]
  },
  {
   "cell_type": "code",
   "execution_count": 20,
   "id": "d2b1f9d0",
   "metadata": {},
   "outputs": [
    {
     "data": {
      "text/plain": [
       "'\\ncur = conn.cursor()\\ncur.execute(\\'\\'\\'\\n\\n\\nCREATE TABLE address (\\n  address CHAR(80) NOT NULL,\\n  address_loc POINT NOT NULL,\\n  PRIMARY KEY(address),\\n  SPATIAL KEY(address_loc)\\n);\\n      \\n      \\n      \\n\\'\\'\\')\\n\\nconn.commit() # <--- makes sure the change is shown in the database\\nprint (\"Table created successfully!!!\")\\n\\n\\n'"
      ]
     },
     "execution_count": 20,
     "metadata": {},
     "output_type": "execute_result"
    }
   ],
   "source": [
    "\"\"\"\n",
    "cur = conn.cursor()\n",
    "cur.execute('''\n",
    "\n",
    "\n",
    "CREATE TABLE address (\n",
    "  address CHAR(80) NOT NULL,\n",
    "  address_loc POINT NOT NULL,\n",
    "  PRIMARY KEY(address),\n",
    "  SPATIAL KEY(address_loc)\n",
    ");\n",
    "      \n",
    "      \n",
    "      \n",
    "''')\n",
    "\n",
    "conn.commit() # <--- makes sure the change is shown in the database\n",
    "print (\"Table created successfully!!!\")\n",
    "\n",
    "\n",
    "\"\"\""
   ]
  },
  {
   "cell_type": "code",
   "execution_count": 38,
   "id": "70087d91",
   "metadata": {},
   "outputs": [
    {
     "name": "stdout",
     "output_type": "stream",
     "text": [
      "Enter Zip: 501\n",
      "Enter latitude: 40.922326\n",
      "Enter longitude: -72.637078\n",
      "Enter city: Holtsville\n",
      "Enter state: NY\n",
      "Enter county: Suffolk\n",
      "Values have been entered sucessfully!!!\n"
     ]
    }
   ],
   "source": [
    "###use this query to create tables\n",
    "\n",
    "zip =  input(\"Enter Zip: \")\n",
    "latitude=input(\"Enter latitude: \")\n",
    "longitude= input(\"Enter longitude: \")\n",
    "city= input(\"Enter city: \")\n",
    "state= input(\"Enter state: \")\n",
    "county= input(\"Enter county: \")\n",
    "    \n",
    "\n",
    "\n",
    "cur = conn.cursor()\n",
    "cur.execute(f\"\"\"\n",
    "insert into Sample_Geom (\n",
    "   zip, latitude,longitude,city,state,county) \n",
    "   values('{zip}', '{latitude}', '{longitude}', '{city}', '{state}','{county}');\n",
    "      \n",
    "\n",
    "\n",
    "\"\"\")\n",
    "\n",
    "\n",
    "   \n",
    "      \n",
    "      \n",
    "\n",
    "\n",
    "conn.commit() # <--- makes sure the change is shown in the database\n",
    "print (\"Values have been entered sucessfully!!!\")"
   ]
  },
  {
   "cell_type": "code",
   "execution_count": null,
   "id": "82b441b1",
   "metadata": {},
   "outputs": [],
   "source": []
  },
  {
   "cell_type": "code",
   "execution_count": null,
   "id": "0a229485",
   "metadata": {},
   "outputs": [],
   "source": []
  },
  {
   "cell_type": "markdown",
   "id": "722a3ab0",
   "metadata": {},
   "source": [
    "### Enter data into the table that was created"
   ]
  },
  {
   "cell_type": "code",
   "execution_count": 23,
   "id": "26f79196",
   "metadata": {},
   "outputs": [
    {
     "name": "stdout",
     "output_type": "stream",
     "text": [
      "Enter First name: Stephanie\n",
      "Enter Lastname: Rodriguez\n",
      "Enter age: 30\n",
      "Enter Place of Birth: USA\n",
      "Enter Country: USA\n",
      "Values have been entered sucessfully!!!\n"
     ]
    }
   ],
   "source": [
    "###use this query to create tables\n",
    "First_Name = input(\"Enter First name: \")\n",
    "Last_Name = input(\"Enter Lastname: \")\n",
    "Age = input(\"Enter age: \")\n",
    "Place_Of_Birth = input(\"Enter Place of Birth: \")\n",
    "Country = input(\"Enter Country: \")\n",
    "\n",
    "cur = conn.cursor()\n",
    "cur.execute(f'''\n",
    "\n",
    "insert into CRICKETERS (\n",
    "   First_Name, Last_Name, Age, Place_Of_Birth, Country) \n",
    "   values('{First_Name}', '{Last_Name}', {Age}, '{Place_Of_Birth }', '{Country}');\n",
    "      \n",
    "   \n",
    "      \n",
    "      \n",
    "''')\n",
    "\n",
    "conn.commit() # <--- makes sure the change is shown in the database\n",
    "print (\"Values have been entered sucessfully!!!\")"
   ]
  },
  {
   "cell_type": "markdown",
   "id": "d31ed708",
   "metadata": {},
   "source": [
    "## Run queries"
   ]
  },
  {
   "cell_type": "code",
   "execution_count": 22,
   "id": "dac5c07f",
   "metadata": {},
   "outputs": [
    {
     "data": {
      "text/html": [
       "<div>\n",
       "<style scoped>\n",
       "    .dataframe tbody tr th:only-of-type {\n",
       "        vertical-align: middle;\n",
       "    }\n",
       "\n",
       "    .dataframe tbody tr th {\n",
       "        vertical-align: top;\n",
       "    }\n",
       "\n",
       "    .dataframe thead th {\n",
       "        text-align: right;\n",
       "    }\n",
       "</style>\n",
       "<table border=\"1\" class=\"dataframe\">\n",
       "  <thead>\n",
       "    <tr style=\"text-align: right;\">\n",
       "      <th></th>\n",
       "      <th>First_Name</th>\n",
       "      <th>Last_Name</th>\n",
       "      <th>Age</th>\n",
       "      <th>Place_Of_Birth</th>\n",
       "      <th>Country</th>\n",
       "    </tr>\n",
       "  </thead>\n",
       "  <tbody>\n",
       "    <tr>\n",
       "      <th>0</th>\n",
       "      <td>Joel</td>\n",
       "      <td>Rodriguez</td>\n",
       "      <td>34</td>\n",
       "      <td>Dominican Republic</td>\n",
       "      <td>United States</td>\n",
       "    </tr>\n",
       "    <tr>\n",
       "      <th>1</th>\n",
       "      <td>Moises</td>\n",
       "      <td>Rodriguez</td>\n",
       "      <td>25</td>\n",
       "      <td>Dominican Republic</td>\n",
       "      <td>Dominican Republic</td>\n",
       "    </tr>\n",
       "    <tr>\n",
       "      <th>2</th>\n",
       "      <td>Glenn</td>\n",
       "      <td>Greenwald</td>\n",
       "      <td>50</td>\n",
       "      <td>United States</td>\n",
       "      <td>Brazil</td>\n",
       "    </tr>\n",
       "    <tr>\n",
       "      <th>3</th>\n",
       "      <td>Nick</td>\n",
       "      <td>Rundee</td>\n",
       "      <td>20</td>\n",
       "      <td>USA</td>\n",
       "      <td>USA</td>\n",
       "    </tr>\n",
       "    <tr>\n",
       "      <th>4</th>\n",
       "      <td>Edward</td>\n",
       "      <td>Snowden</td>\n",
       "      <td>35</td>\n",
       "      <td>USA</td>\n",
       "      <td>Russia</td>\n",
       "    </tr>\n",
       "  </tbody>\n",
       "</table>\n",
       "</div>"
      ],
      "text/plain": [
       "  First_Name  Last_Name  Age      Place_Of_Birth             Country\n",
       "0       Joel  Rodriguez   34  Dominican Republic       United States\n",
       "1     Moises  Rodriguez   25  Dominican Republic  Dominican Republic\n",
       "2      Glenn  Greenwald   50       United States              Brazil\n",
       "3       Nick     Rundee   20                 USA                 USA\n",
       "4     Edward    Snowden   35                 USA              Russia"
      ]
     },
     "execution_count": 22,
     "metadata": {},
     "output_type": "execute_result"
    }
   ],
   "source": [
    "query = \"\"\"\n",
    "\n",
    "select * \n",
    "from cricketers\n",
    "\n",
    "\"\"\"\n",
    "\n",
    "data = psql.read_sql(query, conn)\n",
    "data"
   ]
  },
  {
   "cell_type": "markdown",
   "id": "d9c8386e",
   "metadata": {},
   "source": [
    "### Description of the data.\n",
    "This only applies to numeric values"
   ]
  },
  {
   "cell_type": "code",
   "execution_count": 11,
   "id": "59a7ead6",
   "metadata": {},
   "outputs": [
    {
     "data": {
      "text/html": [
       "<div>\n",
       "<style scoped>\n",
       "    .dataframe tbody tr th:only-of-type {\n",
       "        vertical-align: middle;\n",
       "    }\n",
       "\n",
       "    .dataframe tbody tr th {\n",
       "        vertical-align: top;\n",
       "    }\n",
       "\n",
       "    .dataframe thead th {\n",
       "        text-align: right;\n",
       "    }\n",
       "</style>\n",
       "<table border=\"1\" class=\"dataframe\">\n",
       "  <thead>\n",
       "    <tr style=\"text-align: right;\">\n",
       "      <th></th>\n",
       "      <th>Age</th>\n",
       "    </tr>\n",
       "  </thead>\n",
       "  <tbody>\n",
       "    <tr>\n",
       "      <th>count</th>\n",
       "      <td>2.000000</td>\n",
       "    </tr>\n",
       "    <tr>\n",
       "      <th>mean</th>\n",
       "      <td>29.500000</td>\n",
       "    </tr>\n",
       "    <tr>\n",
       "      <th>std</th>\n",
       "      <td>6.363961</td>\n",
       "    </tr>\n",
       "    <tr>\n",
       "      <th>min</th>\n",
       "      <td>25.000000</td>\n",
       "    </tr>\n",
       "    <tr>\n",
       "      <th>25%</th>\n",
       "      <td>27.250000</td>\n",
       "    </tr>\n",
       "    <tr>\n",
       "      <th>50%</th>\n",
       "      <td>29.500000</td>\n",
       "    </tr>\n",
       "    <tr>\n",
       "      <th>75%</th>\n",
       "      <td>31.750000</td>\n",
       "    </tr>\n",
       "    <tr>\n",
       "      <th>max</th>\n",
       "      <td>34.000000</td>\n",
       "    </tr>\n",
       "  </tbody>\n",
       "</table>\n",
       "</div>"
      ],
      "text/plain": [
       "             Age\n",
       "count   2.000000\n",
       "mean   29.500000\n",
       "std     6.363961\n",
       "min    25.000000\n",
       "25%    27.250000\n",
       "50%    29.500000\n",
       "75%    31.750000\n",
       "max    34.000000"
      ]
     },
     "execution_count": 11,
     "metadata": {},
     "output_type": "execute_result"
    }
   ],
   "source": [
    "data.describe()"
   ]
  },
  {
   "cell_type": "markdown",
   "id": "072c1f6d",
   "metadata": {},
   "source": [
    "### Convert your results into a Json file "
   ]
  },
  {
   "cell_type": "code",
   "execution_count": 12,
   "id": "c6078490",
   "metadata": {},
   "outputs": [
    {
     "name": "stdout",
     "output_type": "stream",
     "text": [
      "{\"schema\":{\"fields\":[{\"name\":\"index\",\"type\":\"integer\"},{\"name\":\"First_Name\",\"type\":\"string\"},{\"name\":\"Last_Name\",\"type\":\"string\"},{\"name\":\"Age\",\"type\":\"integer\"},{\"name\":\"Place_Of_Birth\",\"type\":\"string\"},{\"name\":\"Country\",\"type\":\"string\"}],\"primaryKey\":[\"index\"],\"pandas_version\":\"0.20.0\"},\"data\":[{\"index\":0,\"First_Name\":\"Joel\",\"Last_Name\":\"Rodriguez\",\"Age\":34,\"Place_Of_Birth\":\"Dominican Republic\",\"Country\":\"United States\"},{\"index\":1,\"First_Name\":\"Moises\",\"Last_Name\":\"Rodriguez\",\"Age\":25,\"Place_Of_Birth\":\"Dominican Republic\",\"Country\":\"Dominican Republic\"}]}\n"
     ]
    }
   ],
   "source": [
    "### table, records,split,index,columns,values\n",
    "print(data.to_json(orient ='table'))\n"
   ]
  },
  {
   "cell_type": "markdown",
   "id": "8b8a92e8",
   "metadata": {},
   "source": [
    "## Prepare an extensive profile of your data"
   ]
  },
  {
   "cell_type": "code",
   "execution_count": null,
   "id": "19547558",
   "metadata": {},
   "outputs": [],
   "source": [
    "#profile = pp.ProfileReport(data)\n",
    "#profile.to_file(\"output1.html\")\n",
    "#profile = pp.ProfileReport(data)\n",
    "#profile.to_file(\"output1.html\")"
   ]
  },
  {
   "cell_type": "markdown",
   "id": "28e9fb07",
   "metadata": {},
   "source": [
    "# Make sure you close your connection.\n",
    "If we don't close the connection, it will lead to connection memory leakage. Unless/until application server/web server is shut down, connection will remain activate even though the user logs out.\n",
    "\n",
    "There are additional reasons. Suppose database server has 10 connections available and 10 clients request for the connection. If the database sever grants all of them, and after their usage they are not closed, the database server would not be able to provide a connections for another request. For that reason we need to close them - it is mandatory.\n",
    "\n",
    "Furthermore, it might lead to some mischievous activities regarding the integrity of the database. https://stackoverflow.com/questions/25864235/why-we-should-close-the-connection-in-jdbc-if-we-dont-do-it-what-will-happen"
   ]
  },
  {
   "cell_type": "code",
   "execution_count": 21,
   "id": "3d444fdb",
   "metadata": {},
   "outputs": [
    {
     "name": "stdout",
     "output_type": "stream",
     "text": [
      "connection has been closed!!\n"
     ]
    }
   ],
   "source": [
    "try:\n",
    "    conn.commit()\n",
    "    conn.close()\n",
    "    print(\"connection has been closed!!\")\n",
    "except: \n",
    "    print(\"connection already closed\")"
   ]
  },
  {
   "cell_type": "code",
   "execution_count": null,
   "id": "2e03ee42",
   "metadata": {},
   "outputs": [],
   "source": []
  }
 ],
 "metadata": {
  "kernelspec": {
   "display_name": "Python 3 (ipykernel)",
   "language": "python",
   "name": "python3"
  },
  "language_info": {
   "codemirror_mode": {
    "name": "ipython",
    "version": 3
   },
   "file_extension": ".py",
   "mimetype": "text/x-python",
   "name": "python",
   "nbconvert_exporter": "python",
   "pygments_lexer": "ipython3",
   "version": "3.9.7"
  }
 },
 "nbformat": 4,
 "nbformat_minor": 5
}

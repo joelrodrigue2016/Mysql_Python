{
 "cells": [
  {
   "cell_type": "markdown",
   "id": "f8d58216",
   "metadata": {},
   "source": [
    "# MySQL connection with python\n",
    "PostgreSQL, also known as Postgres, is a free and open-source relational database management system emphasizing extensibility and SQL compliance. It was originally named POSTGRES, referring to its origins as a successor to the Ingres database developed at the University of California, Berkeley."
   ]
  },
  {
   "cell_type": "code",
   "execution_count": 64,
   "id": "9c7fd715",
   "metadata": {},
   "outputs": [
    {
     "name": "stdout",
     "output_type": "stream",
     "text": [
      "Opened database successfully\n"
     ]
    }
   ],
   "source": [
    "#!/usr/bin/python\n",
    "\n",
    "try:\n",
    "    import mysql.connector as mysql\n",
    "    import pandas as pd\n",
    "    import pandas.io.sql as psql\n",
    "    import numpy as np\n",
    "    from matplotlib import pyplot as plt\n",
    "    from IPython.display import display\n",
    "    import os\n",
    "    #import pandas_profiling as pp\n",
    "    \n",
    "    \n",
    "    \n",
    "    host=\"127.0.0.1\"\n",
    "    database=\"lms2\"\n",
    "    user=\"root\"\n",
    "    password=\"\"\n",
    "    conn= mysql.connect(\n",
    "        host=host,\n",
    "        user=user,\n",
    "        password=password,\n",
    "        database=database)\n",
    "\n",
    "\n",
    "    print (\"Opened database successfully\")\n",
    "\n",
    "except Exception as e:\n",
    "    print(e)"
   ]
  },
  {
   "cell_type": "markdown",
   "id": "7701ee2d",
   "metadata": {},
   "source": [
    "## Here we can make sure that the all rows and columns are displayed."
   ]
  },
  {
   "cell_type": "code",
   "execution_count": 65,
   "id": "ed3ef728",
   "metadata": {},
   "outputs": [],
   "source": [
    "pd.options.display.max_rows = None\n",
    "pd.options.display.max_columns = None"
   ]
  },
  {
   "cell_type": "markdown",
   "id": "c83e45d5",
   "metadata": {},
   "source": [
    "### Only use this in order to create tables"
   ]
  },
  {
   "cell_type": "code",
   "execution_count": 66,
   "id": "6be2559e",
   "metadata": {},
   "outputs": [
    {
     "ename": "SyntaxError",
     "evalue": "EOF while scanning triple-quoted string literal (Temp/ipykernel_12056/635071145.py, line 9)",
     "output_type": "error",
     "traceback": [
      "\u001b[1;36m  File \u001b[1;32m\"C:\\Users\\joel\\AppData\\Local\\Temp/ipykernel_12056/635071145.py\"\u001b[1;36m, line \u001b[1;32m9\u001b[0m\n\u001b[1;33m    print(\"Table created successfully\")\"\"\u001b[0m\n\u001b[1;37m                                         \n^\u001b[0m\n\u001b[1;31mSyntaxError\u001b[0m\u001b[1;31m:\u001b[0m EOF while scanning triple-quoted string literal\n"
     ]
    }
   ],
   "source": [
    "###use this query to create tables\n",
    "\"\"\"cur = conn.cursor()\n",
    "cur.execute('''CREATE TABLE COMPANY\n",
    "      (ID INT PRIMARY KEY     NOT NULL,\n",
    "      NAME           TEXT    NOT NULL,\n",
    "      AGE            INT     NOT NULL,\n",
    "      ADDRESS        CHAR(50),\n",
    "      SALARY         REAL);''')\n",
    "print(\"Table created successfully\")\"\""
   ]
  },
  {
   "cell_type": "markdown",
   "id": "d8a526ee",
   "metadata": {},
   "source": [
    "### Run queries"
   ]
  },
  {
   "cell_type": "code",
   "execution_count": 71,
   "id": "a2015478",
   "metadata": {},
   "outputs": [
    {
     "data": {
      "text/html": [
       "<div>\n",
       "<style scoped>\n",
       "    .dataframe tbody tr th:only-of-type {\n",
       "        vertical-align: middle;\n",
       "    }\n",
       "\n",
       "    .dataframe tbody tr th {\n",
       "        vertical-align: top;\n",
       "    }\n",
       "\n",
       "    .dataframe thead th {\n",
       "        text-align: right;\n",
       "    }\n",
       "</style>\n",
       "<table border=\"1\" class=\"dataframe\">\n",
       "  <thead>\n",
       "    <tr style=\"text-align: right;\">\n",
       "      <th></th>\n",
       "      <th>first_name</th>\n",
       "      <th>last_name</th>\n",
       "      <th>age</th>\n",
       "      <th>country</th>\n",
       "    </tr>\n",
       "  </thead>\n",
       "  <tbody>\n",
       "    <tr>\n",
       "      <th>0</th>\n",
       "      <td>Joel</td>\n",
       "      <td>Rodriguez</td>\n",
       "      <td>27</td>\n",
       "      <td>United States</td>\n",
       "    </tr>\n",
       "    <tr>\n",
       "      <th>1</th>\n",
       "      <td>Joel</td>\n",
       "      <td>Rodriguez</td>\n",
       "      <td>27</td>\n",
       "      <td>United States</td>\n",
       "    </tr>\n",
       "    <tr>\n",
       "      <th>2</th>\n",
       "      <td>Moises</td>\n",
       "      <td>Rodriguez</td>\n",
       "      <td>25</td>\n",
       "      <td>Dominican Republic</td>\n",
       "    </tr>\n",
       "    <tr>\n",
       "      <th>3</th>\n",
       "      <td>Moises</td>\n",
       "      <td>Rodriguez</td>\n",
       "      <td>25</td>\n",
       "      <td>Dominican Republic</td>\n",
       "    </tr>\n",
       "    <tr>\n",
       "      <th>4</th>\n",
       "      <td>Alan</td>\n",
       "      <td>Dershwitz</td>\n",
       "      <td>80</td>\n",
       "      <td>United States</td>\n",
       "    </tr>\n",
       "    <tr>\n",
       "      <th>5</th>\n",
       "      <td>Alan</td>\n",
       "      <td>Dershwitz</td>\n",
       "      <td>80</td>\n",
       "      <td>United States</td>\n",
       "    </tr>\n",
       "    <tr>\n",
       "      <th>6</th>\n",
       "      <td>Sarai</td>\n",
       "      <td>Rodriguez</td>\n",
       "      <td>30</td>\n",
       "      <td>Dominican Republic</td>\n",
       "    </tr>\n",
       "    <tr>\n",
       "      <th>7</th>\n",
       "      <td>Sarai</td>\n",
       "      <td>Rodriguez</td>\n",
       "      <td>30</td>\n",
       "      <td>Dominican Republic</td>\n",
       "    </tr>\n",
       "    <tr>\n",
       "      <th>8</th>\n",
       "      <td>Tucker</td>\n",
       "      <td>Carlson</td>\n",
       "      <td>50</td>\n",
       "      <td>United States</td>\n",
       "    </tr>\n",
       "    <tr>\n",
       "      <th>9</th>\n",
       "      <td>Tucker</td>\n",
       "      <td>Carlson</td>\n",
       "      <td>50</td>\n",
       "      <td>United States</td>\n",
       "    </tr>\n",
       "    <tr>\n",
       "      <th>10</th>\n",
       "      <td>NT</td>\n",
       "      <td>Wright</td>\n",
       "      <td>45</td>\n",
       "      <td>United Kingdom</td>\n",
       "    </tr>\n",
       "  </tbody>\n",
       "</table>\n",
       "</div>"
      ],
      "text/plain": [
       "   first_name  last_name  age             country\n",
       "0        Joel  Rodriguez   27       United States\n",
       "1        Joel  Rodriguez   27       United States\n",
       "2      Moises  Rodriguez   25  Dominican Republic\n",
       "3      Moises  Rodriguez   25  Dominican Republic\n",
       "4       Alan   Dershwitz   80       United States\n",
       "5       Alan   Dershwitz   80       United States\n",
       "6       Sarai  Rodriguez   30  Dominican Republic\n",
       "7       Sarai  Rodriguez   30  Dominican Republic\n",
       "8     Tucker     Carlson   50       United States\n",
       "9     Tucker     Carlson   50       United States\n",
       "10         NT     Wright   45      United Kingdom"
      ]
     },
     "execution_count": 71,
     "metadata": {},
     "output_type": "execute_result"
    }
   ],
   "source": [
    "mycursor = conn.cursor()\n",
    "query = \"\"\"\n",
    "\n",
    "SELECT * \n",
    "FROM student\n",
    "\n",
    ";\n",
    "\n",
    "\n",
    "\n",
    "\n",
    "\"\"\"\n",
    "\n",
    "data = psql.read_sql(query, conn)\n",
    "data"
   ]
  },
  {
   "cell_type": "code",
   "execution_count": 72,
   "id": "08257b0f",
   "metadata": {},
   "outputs": [
    {
     "data": {
      "text/html": [
       "<div>\n",
       "<style scoped>\n",
       "    .dataframe tbody tr th:only-of-type {\n",
       "        vertical-align: middle;\n",
       "    }\n",
       "\n",
       "    .dataframe tbody tr th {\n",
       "        vertical-align: top;\n",
       "    }\n",
       "\n",
       "    .dataframe thead th {\n",
       "        text-align: right;\n",
       "    }\n",
       "</style>\n",
       "<table border=\"1\" class=\"dataframe\">\n",
       "  <thead>\n",
       "    <tr style=\"text-align: right;\">\n",
       "      <th></th>\n",
       "      <th>first_name</th>\n",
       "      <th>last_name</th>\n",
       "      <th>age</th>\n",
       "      <th>country</th>\n",
       "    </tr>\n",
       "  </thead>\n",
       "  <tbody>\n",
       "    <tr>\n",
       "      <th>0</th>\n",
       "      <td>Joel</td>\n",
       "      <td>Rodriguez</td>\n",
       "      <td>27</td>\n",
       "      <td>United States</td>\n",
       "    </tr>\n",
       "    <tr>\n",
       "      <th>1</th>\n",
       "      <td>Joel</td>\n",
       "      <td>Rodriguez</td>\n",
       "      <td>27</td>\n",
       "      <td>United States</td>\n",
       "    </tr>\n",
       "    <tr>\n",
       "      <th>2</th>\n",
       "      <td>Moises</td>\n",
       "      <td>Rodriguez</td>\n",
       "      <td>25</td>\n",
       "      <td>Dominican Republic</td>\n",
       "    </tr>\n",
       "    <tr>\n",
       "      <th>3</th>\n",
       "      <td>Moises</td>\n",
       "      <td>Rodriguez</td>\n",
       "      <td>25</td>\n",
       "      <td>Dominican Republic</td>\n",
       "    </tr>\n",
       "    <tr>\n",
       "      <th>4</th>\n",
       "      <td>Alan</td>\n",
       "      <td>Dershwitz</td>\n",
       "      <td>80</td>\n",
       "      <td>United States</td>\n",
       "    </tr>\n",
       "  </tbody>\n",
       "</table>\n",
       "</div>"
      ],
      "text/plain": [
       "  first_name  last_name  age             country\n",
       "0       Joel  Rodriguez   27       United States\n",
       "1       Joel  Rodriguez   27       United States\n",
       "2     Moises  Rodriguez   25  Dominican Republic\n",
       "3     Moises  Rodriguez   25  Dominican Republic\n",
       "4      Alan   Dershwitz   80       United States"
      ]
     },
     "execution_count": 72,
     "metadata": {},
     "output_type": "execute_result"
    }
   ],
   "source": [
    "mycursor = conn.cursor()\n",
    "query = \"\"\"\n",
    "\n",
    "SELECT * \n",
    "FROM student\n",
    "limit 5;\n",
    "\n",
    "\n",
    "\n",
    "\n",
    "\"\"\"\n",
    "\n",
    "data = psql.read_sql(query, conn)\n",
    "data"
   ]
  },
  {
   "cell_type": "markdown",
   "id": "5751bfb3",
   "metadata": {},
   "source": [
    "### Description of the data.\n",
    "This only applies to numeric values"
   ]
  },
  {
   "cell_type": "code",
   "execution_count": 68,
   "id": "5d24b939",
   "metadata": {},
   "outputs": [
    {
     "data": {
      "text/html": [
       "<div>\n",
       "<style scoped>\n",
       "    .dataframe tbody tr th:only-of-type {\n",
       "        vertical-align: middle;\n",
       "    }\n",
       "\n",
       "    .dataframe tbody tr th {\n",
       "        vertical-align: top;\n",
       "    }\n",
       "\n",
       "    .dataframe thead th {\n",
       "        text-align: right;\n",
       "    }\n",
       "</style>\n",
       "<table border=\"1\" class=\"dataframe\">\n",
       "  <thead>\n",
       "    <tr style=\"text-align: right;\">\n",
       "      <th></th>\n",
       "      <th>age</th>\n",
       "    </tr>\n",
       "  </thead>\n",
       "  <tbody>\n",
       "    <tr>\n",
       "      <th>count</th>\n",
       "      <td>5.00000</td>\n",
       "    </tr>\n",
       "    <tr>\n",
       "      <th>mean</th>\n",
       "      <td>36.80000</td>\n",
       "    </tr>\n",
       "    <tr>\n",
       "      <th>std</th>\n",
       "      <td>24.17023</td>\n",
       "    </tr>\n",
       "    <tr>\n",
       "      <th>min</th>\n",
       "      <td>25.00000</td>\n",
       "    </tr>\n",
       "    <tr>\n",
       "      <th>25%</th>\n",
       "      <td>25.00000</td>\n",
       "    </tr>\n",
       "    <tr>\n",
       "      <th>50%</th>\n",
       "      <td>27.00000</td>\n",
       "    </tr>\n",
       "    <tr>\n",
       "      <th>75%</th>\n",
       "      <td>27.00000</td>\n",
       "    </tr>\n",
       "    <tr>\n",
       "      <th>max</th>\n",
       "      <td>80.00000</td>\n",
       "    </tr>\n",
       "  </tbody>\n",
       "</table>\n",
       "</div>"
      ],
      "text/plain": [
       "            age\n",
       "count   5.00000\n",
       "mean   36.80000\n",
       "std    24.17023\n",
       "min    25.00000\n",
       "25%    25.00000\n",
       "50%    27.00000\n",
       "75%    27.00000\n",
       "max    80.00000"
      ]
     },
     "execution_count": 68,
     "metadata": {},
     "output_type": "execute_result"
    }
   ],
   "source": [
    "data.describe()"
   ]
  },
  {
   "cell_type": "markdown",
   "id": "45150bd3",
   "metadata": {},
   "source": [
    "### Convert your results into a Json file "
   ]
  },
  {
   "cell_type": "code",
   "execution_count": 27,
   "id": "20ed66b7",
   "metadata": {},
   "outputs": [
    {
     "name": "stdout",
     "output_type": "stream",
     "text": [
      "{\"schema\":{\"fields\":[{\"name\":\"index\",\"type\":\"integer\"},{\"name\":\"first_name\",\"type\":\"string\"},{\"name\":\"last_name\",\"type\":\"string\"},{\"name\":\"age\",\"type\":\"integer\"},{\"name\":\"country\",\"type\":\"string\"}],\"primaryKey\":[\"index\"],\"pandas_version\":\"0.20.0\"},\"data\":[{\"index\":0,\"first_name\":\"Joel\",\"last_name\":\"Rodriguez\",\"age\":27,\"country\":\"United States\"},{\"index\":1,\"first_name\":\"Joel\",\"last_name\":\"Rodriguez\",\"age\":27,\"country\":\"United States\"},{\"index\":2,\"first_name\":\"Moises\",\"last_name\":\"Rodriguez\",\"age\":25,\"country\":\"Dominican Republic\"},{\"index\":3,\"first_name\":\"Moises\",\"last_name\":\"Rodriguez\",\"age\":25,\"country\":\"Dominican Republic\"},{\"index\":4,\"first_name\":\"Alan \",\"last_name\":\"Dershwitz\",\"age\":80,\"country\":\"United States\"}]}\n"
     ]
    }
   ],
   "source": [
    "### table, records,split,index,columns,values\n",
    "print(data.to_json(orient ='table'))\n"
   ]
  },
  {
   "cell_type": "markdown",
   "id": "26eeadd1",
   "metadata": {},
   "source": [
    "### Prepare an extensive profile of your data"
   ]
  },
  {
   "cell_type": "code",
   "execution_count": null,
   "id": "c5a6e654",
   "metadata": {},
   "outputs": [],
   "source": [
    "#profile = pp.ProfileReport(data)\n",
    "#profile.to_file(\"output1.html\")\n",
    "#profile = pp.ProfileReport(data)\n",
    "#profile.to_file(\"output1.html\")"
   ]
  },
  {
   "cell_type": "markdown",
   "id": "c6c7179e",
   "metadata": {},
   "source": [
    "# Make sure you close your connection.\n",
    "If we don't close the connection, it will lead to connection memory leakage. Unless/until application server/web server is shut down, connection will remain activate even though the user logs out.\n",
    "\n",
    "There are additional reasons. Suppose database server has 10 connections available and 10 clients request for the connection. If the database sever grants all of them, and after their usage they are not closed, the database server would not be able to provide a connections for another request. For that reason we need to close them - it is mandatory.\n",
    "\n",
    "Furthermore, it might lead to some mischievous activities regarding the integrity of the database. https://stackoverflow.com/questions/25864235/why-we-should-close-the-connection-in-jdbc-if-we-dont-do-it-what-will-happen"
   ]
  },
  {
   "cell_type": "code",
   "execution_count": 73,
   "id": "389c2025",
   "metadata": {},
   "outputs": [
    {
     "name": "stdout",
     "output_type": "stream",
     "text": [
      "connection has been closed!!\n"
     ]
    }
   ],
   "source": [
    "try:\n",
    "    conn.commit()\n",
    "    conn.close()\n",
    "    print(\"connection has been closed!!\")\n",
    "except: \n",
    "    print(\"connection already closed\")"
   ]
  },
  {
   "cell_type": "code",
   "execution_count": null,
   "id": "e028d9b5",
   "metadata": {},
   "outputs": [],
   "source": []
  }
 ],
 "metadata": {
  "kernelspec": {
   "display_name": "Python 3 (ipykernel)",
   "language": "python",
   "name": "python3"
  },
  "language_info": {
   "codemirror_mode": {
    "name": "ipython",
    "version": 3
   },
   "file_extension": ".py",
   "mimetype": "text/x-python",
   "name": "python",
   "nbconvert_exporter": "python",
   "pygments_lexer": "ipython3",
   "version": "3.9.7"
  }
 },
 "nbformat": 4,
 "nbformat_minor": 5
}
